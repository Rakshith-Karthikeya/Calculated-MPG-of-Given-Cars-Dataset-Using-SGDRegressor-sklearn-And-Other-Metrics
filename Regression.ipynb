{
 "cells": [
  {
   "cell_type": "code",
   "execution_count": 496,
   "metadata": {},
   "outputs": [],
   "source": [
    "import pandas as pd\n",
    "import numpy as np\n",
    "import matplotlib.pyplot as plt\n",
    "from sklearn.model_selection import train_test_split \n",
    "from sklearn.linear_model import SGDRegressor\n",
    "from sklearn.metrics import r2_score,mean_squared_error,mean_absolute_error\n",
    "from sklearn import preprocessing"
   ]
  },
  {
   "cell_type": "code",
   "execution_count": 497,
   "metadata": {},
   "outputs": [
    {
     "data": {
      "text/html": [
       "<div>\n",
       "<style scoped>\n",
       "    .dataframe tbody tr th:only-of-type {\n",
       "        vertical-align: middle;\n",
       "    }\n",
       "\n",
       "    .dataframe tbody tr th {\n",
       "        vertical-align: top;\n",
       "    }\n",
       "\n",
       "    .dataframe thead th {\n",
       "        text-align: right;\n",
       "    }\n",
       "</style>\n",
       "<table border=\"1\" class=\"dataframe\">\n",
       "  <thead>\n",
       "    <tr style=\"text-align: right;\">\n",
       "      <th></th>\n",
       "      <th>model_name</th>\n",
       "      <th>mpg</th>\n",
       "      <th>cylinders</th>\n",
       "      <th>displacement</th>\n",
       "      <th>horsepower</th>\n",
       "      <th>weight</th>\n",
       "      <th>acceleration</th>\n",
       "      <th>model_year</th>\n",
       "      <th>origin</th>\n",
       "    </tr>\n",
       "  </thead>\n",
       "  <tbody>\n",
       "    <tr>\n",
       "      <th>0</th>\n",
       "      <td>chevrolet chevelle malibu</td>\n",
       "      <td>18.0</td>\n",
       "      <td>8</td>\n",
       "      <td>307.0</td>\n",
       "      <td>130</td>\n",
       "      <td>3504</td>\n",
       "      <td>12.0</td>\n",
       "      <td>70</td>\n",
       "      <td>1</td>\n",
       "    </tr>\n",
       "    <tr>\n",
       "      <th>1</th>\n",
       "      <td>buick skylark 320</td>\n",
       "      <td>15.0</td>\n",
       "      <td>8</td>\n",
       "      <td>350.0</td>\n",
       "      <td>165</td>\n",
       "      <td>3693</td>\n",
       "      <td>11.5</td>\n",
       "      <td>70</td>\n",
       "      <td>1</td>\n",
       "    </tr>\n",
       "    <tr>\n",
       "      <th>2</th>\n",
       "      <td>plymouth satellite</td>\n",
       "      <td>18.0</td>\n",
       "      <td>8</td>\n",
       "      <td>318.0</td>\n",
       "      <td>150</td>\n",
       "      <td>3436</td>\n",
       "      <td>11.0</td>\n",
       "      <td>70</td>\n",
       "      <td>1</td>\n",
       "    </tr>\n",
       "    <tr>\n",
       "      <th>3</th>\n",
       "      <td>amc rebel sst</td>\n",
       "      <td>16.0</td>\n",
       "      <td>8</td>\n",
       "      <td>304.0</td>\n",
       "      <td>150</td>\n",
       "      <td>3433</td>\n",
       "      <td>12.0</td>\n",
       "      <td>70</td>\n",
       "      <td>1</td>\n",
       "    </tr>\n",
       "    <tr>\n",
       "      <th>4</th>\n",
       "      <td>ford torino</td>\n",
       "      <td>17.0</td>\n",
       "      <td>8</td>\n",
       "      <td>302.0</td>\n",
       "      <td>140</td>\n",
       "      <td>3449</td>\n",
       "      <td>10.5</td>\n",
       "      <td>70</td>\n",
       "      <td>1</td>\n",
       "    </tr>\n",
       "    <tr>\n",
       "      <th>...</th>\n",
       "      <td>...</td>\n",
       "      <td>...</td>\n",
       "      <td>...</td>\n",
       "      <td>...</td>\n",
       "      <td>...</td>\n",
       "      <td>...</td>\n",
       "      <td>...</td>\n",
       "      <td>...</td>\n",
       "      <td>...</td>\n",
       "    </tr>\n",
       "    <tr>\n",
       "      <th>387</th>\n",
       "      <td>ford mustang gl</td>\n",
       "      <td>27.0</td>\n",
       "      <td>4</td>\n",
       "      <td>140.0</td>\n",
       "      <td>86</td>\n",
       "      <td>2790</td>\n",
       "      <td>15.6</td>\n",
       "      <td>82</td>\n",
       "      <td>1</td>\n",
       "    </tr>\n",
       "    <tr>\n",
       "      <th>388</th>\n",
       "      <td>vw pickup</td>\n",
       "      <td>44.0</td>\n",
       "      <td>4</td>\n",
       "      <td>97.0</td>\n",
       "      <td>52</td>\n",
       "      <td>2130</td>\n",
       "      <td>24.6</td>\n",
       "      <td>82</td>\n",
       "      <td>2</td>\n",
       "    </tr>\n",
       "    <tr>\n",
       "      <th>389</th>\n",
       "      <td>dodge rampage</td>\n",
       "      <td>32.0</td>\n",
       "      <td>4</td>\n",
       "      <td>135.0</td>\n",
       "      <td>84</td>\n",
       "      <td>2295</td>\n",
       "      <td>11.6</td>\n",
       "      <td>82</td>\n",
       "      <td>1</td>\n",
       "    </tr>\n",
       "    <tr>\n",
       "      <th>390</th>\n",
       "      <td>ford ranger</td>\n",
       "      <td>28.0</td>\n",
       "      <td>4</td>\n",
       "      <td>120.0</td>\n",
       "      <td>79</td>\n",
       "      <td>2625</td>\n",
       "      <td>18.6</td>\n",
       "      <td>82</td>\n",
       "      <td>1</td>\n",
       "    </tr>\n",
       "    <tr>\n",
       "      <th>391</th>\n",
       "      <td>chevy s-10</td>\n",
       "      <td>31.0</td>\n",
       "      <td>4</td>\n",
       "      <td>119.0</td>\n",
       "      <td>82</td>\n",
       "      <td>2720</td>\n",
       "      <td>19.4</td>\n",
       "      <td>82</td>\n",
       "      <td>1</td>\n",
       "    </tr>\n",
       "  </tbody>\n",
       "</table>\n",
       "<p>392 rows × 9 columns</p>\n",
       "</div>"
      ],
      "text/plain": [
       "                    model_name   mpg  cylinders  displacement  horsepower  \\\n",
       "0    chevrolet chevelle malibu  18.0          8         307.0         130   \n",
       "1            buick skylark 320  15.0          8         350.0         165   \n",
       "2           plymouth satellite  18.0          8         318.0         150   \n",
       "3                amc rebel sst  16.0          8         304.0         150   \n",
       "4                  ford torino  17.0          8         302.0         140   \n",
       "..                         ...   ...        ...           ...         ...   \n",
       "387            ford mustang gl  27.0          4         140.0          86   \n",
       "388                  vw pickup  44.0          4          97.0          52   \n",
       "389              dodge rampage  32.0          4         135.0          84   \n",
       "390                ford ranger  28.0          4         120.0          79   \n",
       "391                 chevy s-10  31.0          4         119.0          82   \n",
       "\n",
       "     weight  acceleration  model_year  origin  \n",
       "0      3504          12.0          70       1  \n",
       "1      3693          11.5          70       1  \n",
       "2      3436          11.0          70       1  \n",
       "3      3433          12.0          70       1  \n",
       "4      3449          10.5          70       1  \n",
       "..      ...           ...         ...     ...  \n",
       "387    2790          15.6          82       1  \n",
       "388    2130          24.6          82       2  \n",
       "389    2295          11.6          82       1  \n",
       "390    2625          18.6          82       1  \n",
       "391    2720          19.4          82       1  \n",
       "\n",
       "[392 rows x 9 columns]"
      ]
     },
     "execution_count": 497,
     "metadata": {},
     "output_type": "execute_result"
    }
   ],
   "source": [
    "file1 = r'C:\\Users\\Chandra Pratap\\Downloads\\auto_mpg_data(3).csv'\n",
    "\n",
    "\n",
    "cars1 = pd.read_csv(file1)   # read in the first data file\n",
    "\n",
    "# we have other columns named unamed which contains only NaN values\n",
    "# so we drop them.\n",
    "cars1.drop(cars1.columns[9:],axis=1,inplace=True) \n",
    "\n",
    "# concatenate the two data\n",
    "cars = pd.concat([cars1])\n",
    "cars  # print the first five rows of the data"
   ]
  },
  {
   "cell_type": "code",
   "execution_count": 498,
   "metadata": {},
   "outputs": [
    {
     "name": "stdout",
     "output_type": "stream",
     "text": [
      "<class 'pandas.core.frame.DataFrame'>\n",
      "RangeIndex: 392 entries, 0 to 391\n",
      "Data columns (total 9 columns):\n",
      " #   Column        Non-Null Count  Dtype  \n",
      "---  ------        --------------  -----  \n",
      " 0   model_name    392 non-null    object \n",
      " 1   mpg           392 non-null    float64\n",
      " 2   cylinders     392 non-null    int64  \n",
      " 3   displacement  392 non-null    float64\n",
      " 4   horsepower    392 non-null    int64  \n",
      " 5   weight        392 non-null    int64  \n",
      " 6   acceleration  392 non-null    float64\n",
      " 7   model_year    392 non-null    int64  \n",
      " 8   origin        392 non-null    int64  \n",
      "dtypes: float64(3), int64(5), object(1)\n",
      "memory usage: 27.7+ KB\n"
     ]
    }
   ],
   "source": [
    "cars.info()  # print the info of the data"
   ]
  },
  {
   "cell_type": "code",
   "execution_count": 499,
   "metadata": {},
   "outputs": [
    {
     "name": "stdout",
     "output_type": "stream",
     "text": [
      "sum of duplicated values: 0\n",
      "\n",
      "sum of null values: mpg             0\n",
      "cylinders       0\n",
      "displacement    0\n",
      "horsepower      0\n",
      "weight          0\n",
      "acceleration    0\n",
      "model_year      0\n",
      "origin          0\n",
      "dtype: int64\n"
     ]
    }
   ],
   "source": [
    "# won't be needing the model name column so we drop it\n",
    "cars = cars.drop('model_name',axis=1)\n",
    "#cars = cars.drop('mpg',axis=1)\n",
    "\n",
    "# check for duplicates and null values\n",
    "print('sum of duplicated values: {}\\n'.format(cars.duplicated().sum()))\n",
    "print('sum of null values: {}'.format(cars.isnull().sum()))\n"
   ]
  },
  {
   "cell_type": "code",
   "execution_count": 500,
   "metadata": {},
   "outputs": [
    {
     "data": {
      "text/html": [
       "<div>\n",
       "<style scoped>\n",
       "    .dataframe tbody tr th:only-of-type {\n",
       "        vertical-align: middle;\n",
       "    }\n",
       "\n",
       "    .dataframe tbody tr th {\n",
       "        vertical-align: top;\n",
       "    }\n",
       "\n",
       "    .dataframe thead th {\n",
       "        text-align: right;\n",
       "    }\n",
       "</style>\n",
       "<table border=\"1\" class=\"dataframe\">\n",
       "  <thead>\n",
       "    <tr style=\"text-align: right;\">\n",
       "      <th></th>\n",
       "      <th>mpg</th>\n",
       "      <th>cylinders</th>\n",
       "      <th>displacement</th>\n",
       "      <th>horsepower</th>\n",
       "      <th>weight</th>\n",
       "      <th>acceleration</th>\n",
       "      <th>model_year</th>\n",
       "      <th>origin</th>\n",
       "    </tr>\n",
       "  </thead>\n",
       "  <tbody>\n",
       "    <tr>\n",
       "      <th>count</th>\n",
       "      <td>392.000000</td>\n",
       "      <td>392.000000</td>\n",
       "      <td>392.000000</td>\n",
       "      <td>392.000000</td>\n",
       "      <td>392.000000</td>\n",
       "      <td>392.000000</td>\n",
       "      <td>392.000000</td>\n",
       "      <td>392.000000</td>\n",
       "    </tr>\n",
       "    <tr>\n",
       "      <th>mean</th>\n",
       "      <td>23.445918</td>\n",
       "      <td>5.471939</td>\n",
       "      <td>194.411990</td>\n",
       "      <td>104.469388</td>\n",
       "      <td>2977.584184</td>\n",
       "      <td>15.541327</td>\n",
       "      <td>75.979592</td>\n",
       "      <td>1.576531</td>\n",
       "    </tr>\n",
       "    <tr>\n",
       "      <th>std</th>\n",
       "      <td>7.805007</td>\n",
       "      <td>1.705783</td>\n",
       "      <td>104.644004</td>\n",
       "      <td>38.491160</td>\n",
       "      <td>849.402560</td>\n",
       "      <td>2.758864</td>\n",
       "      <td>3.683737</td>\n",
       "      <td>0.805518</td>\n",
       "    </tr>\n",
       "    <tr>\n",
       "      <th>min</th>\n",
       "      <td>9.000000</td>\n",
       "      <td>3.000000</td>\n",
       "      <td>68.000000</td>\n",
       "      <td>46.000000</td>\n",
       "      <td>1613.000000</td>\n",
       "      <td>8.000000</td>\n",
       "      <td>70.000000</td>\n",
       "      <td>1.000000</td>\n",
       "    </tr>\n",
       "    <tr>\n",
       "      <th>25%</th>\n",
       "      <td>17.000000</td>\n",
       "      <td>4.000000</td>\n",
       "      <td>105.000000</td>\n",
       "      <td>75.000000</td>\n",
       "      <td>2225.250000</td>\n",
       "      <td>13.775000</td>\n",
       "      <td>73.000000</td>\n",
       "      <td>1.000000</td>\n",
       "    </tr>\n",
       "    <tr>\n",
       "      <th>50%</th>\n",
       "      <td>22.750000</td>\n",
       "      <td>4.000000</td>\n",
       "      <td>151.000000</td>\n",
       "      <td>93.500000</td>\n",
       "      <td>2803.500000</td>\n",
       "      <td>15.500000</td>\n",
       "      <td>76.000000</td>\n",
       "      <td>1.000000</td>\n",
       "    </tr>\n",
       "    <tr>\n",
       "      <th>75%</th>\n",
       "      <td>29.000000</td>\n",
       "      <td>8.000000</td>\n",
       "      <td>275.750000</td>\n",
       "      <td>126.000000</td>\n",
       "      <td>3614.750000</td>\n",
       "      <td>17.025000</td>\n",
       "      <td>79.000000</td>\n",
       "      <td>2.000000</td>\n",
       "    </tr>\n",
       "    <tr>\n",
       "      <th>max</th>\n",
       "      <td>46.600000</td>\n",
       "      <td>8.000000</td>\n",
       "      <td>455.000000</td>\n",
       "      <td>230.000000</td>\n",
       "      <td>5140.000000</td>\n",
       "      <td>24.800000</td>\n",
       "      <td>82.000000</td>\n",
       "      <td>3.000000</td>\n",
       "    </tr>\n",
       "  </tbody>\n",
       "</table>\n",
       "</div>"
      ],
      "text/plain": [
       "              mpg   cylinders  displacement  horsepower       weight  \\\n",
       "count  392.000000  392.000000    392.000000  392.000000   392.000000   \n",
       "mean    23.445918    5.471939    194.411990  104.469388  2977.584184   \n",
       "std      7.805007    1.705783    104.644004   38.491160   849.402560   \n",
       "min      9.000000    3.000000     68.000000   46.000000  1613.000000   \n",
       "25%     17.000000    4.000000    105.000000   75.000000  2225.250000   \n",
       "50%     22.750000    4.000000    151.000000   93.500000  2803.500000   \n",
       "75%     29.000000    8.000000    275.750000  126.000000  3614.750000   \n",
       "max     46.600000    8.000000    455.000000  230.000000  5140.000000   \n",
       "\n",
       "       acceleration  model_year      origin  \n",
       "count    392.000000  392.000000  392.000000  \n",
       "mean      15.541327   75.979592    1.576531  \n",
       "std        2.758864    3.683737    0.805518  \n",
       "min        8.000000   70.000000    1.000000  \n",
       "25%       13.775000   73.000000    1.000000  \n",
       "50%       15.500000   76.000000    1.000000  \n",
       "75%       17.025000   79.000000    2.000000  \n",
       "max       24.800000   82.000000    3.000000  "
      ]
     },
     "metadata": {},
     "output_type": "display_data"
    }
   ],
   "source": [
    "# let's print the summary statistics of the data\n",
    "display(cars.describe())\n",
    "\n",
    "\n",
    "# this line of code shows the count,mean,standard deviation,minimum and maximum values,25th,50th and 70th percentiles\n",
    "# of each variable in the data."
   ]
  },
  {
   "cell_type": "code",
   "execution_count": 501,
   "metadata": {},
   "outputs": [
    {
     "data": {
      "image/png": "[encoded data removed]",
      "text/plain": [
       "<Figure size 432x288 with 1 Axes>"
      ]
     },
     "metadata": {},
     "output_type": "display_data"
    }
   ],
   "source": [
    "# let's visualize the distribution of the features of the cars\n",
    "x = cars['cylinders']\n",
    "y = cars['mpg']\n",
    "plt.scatter(x,y)\n",
    "plt.show()"
   ]
  },
  {
   "cell_type": "code",
   "execution_count": 502,
   "metadata": {},
   "outputs": [
    {
     "data": {
      "image/png": "[encoded data removed]",
      "text/plain": [
       "<Figure size 432x288 with 1 Axes>"
      ]
     },
     "metadata": {},
     "output_type": "display_data"
    }
   ],
   "source": [
    "# let's visualize the distribution of the features of the cars\n",
    "x = cars['displacement']\n",
    "y = cars['mpg']\n",
    "plt.scatter(x,y)\n",
    "plt.show()"
   ]
  },
  {
   "cell_type": "code",
   "execution_count": 503,
   "metadata": {},
   "outputs": [
    {
     "data": {
      "image/png": "[encoded data removed]",
      "text/plain": [
       "<Figure size 432x288 with 1 Axes>"
      ]
     },
     "metadata": {},
     "output_type": "display_data"
    }
   ],
   "source": [
    "# let's visualize the distribution of the features of the cars\n",
    "x = cars['horsepower']\n",
    "y = cars['mpg']\n",
    "plt.scatter(x,y)\n",
    "plt.show()"
   ]
  },
  {
   "cell_type": "code",
   "execution_count": 504,
   "metadata": {},
   "outputs": [
    {
     "data": {
      "image/png": "[encoded data removed]",
      "text/plain": [
       "<Figure size 432x288 with 1 Axes>"
      ]
     },
     "metadata": {},
     "output_type": "display_data"
    }
   ],
   "source": [
    "# let's visualize the distribution of the features of the cars\n",
    "x = cars['weight']\n",
    "y = cars['mpg']\n",
    "plt.scatter(x,y)\n",
    "plt.show()"
   ]
  },
  {
   "cell_type": "code",
   "execution_count": 505,
   "metadata": {},
   "outputs": [
    {
     "data": {
      "image/png": "[encoded data removed]",
      "text/plain": [
       "<Figure size 432x288 with 1 Axes>"
      ]
     },
     "metadata": {},
     "output_type": "display_data"
    }
   ],
   "source": [
    "# let's visualize the distribution of the features of the cars\n",
    "x = cars['acceleration']\n",
    "y = cars['mpg']\n",
    "plt.scatter(x,y)\n",
    "plt.show()"
   ]
  },
  {
   "cell_type": "code",
   "execution_count": 506,
   "metadata": {},
   "outputs": [
    {
     "data": {
      "image/png": "[encoded data removed]",
      "text/plain": [
       "<Figure size 432x288 with 1 Axes>"
      ]
     },
     "metadata": {},
     "output_type": "display_data"
    }
   ],
   "source": [
    "# let's visualize the distribution of the features of the cars\n",
    "x = cars['model_year']\n",
    "y = cars['mpg']\n",
    "plt.scatter(x,y)\n",
    "plt.show()"
   ]
  },
  {
   "cell_type": "code",
   "execution_count": 507,
   "metadata": {},
   "outputs": [
    {
     "data": {
      "image/png": "[encoded data removed]",
      "text/plain": [
       "<Figure size 432x288 with 1 Axes>"
      ]
     },
     "metadata": {},
     "output_type": "display_data"
    }
   ],
   "source": [
    "# let's visualize the distribution of the features of the cars\n",
    "x = cars['origin']\n",
    "y = cars['mpg']\n",
    "plt.scatter(x,y)\n",
    "plt.show()"
   ]
  },
  {
   "cell_type": "markdown",
   "metadata": {},
   "source": [
    "# Cylinder Feature"
   ]
  },
  {
   "cell_type": "code",
   "execution_count": 508,
   "metadata": {},
   "outputs": [
    {
     "data": {
      "text/plain": [
       "SGDRegressor(max_iter=500)"
      ]
     },
     "execution_count": 508,
     "metadata": {},
     "output_type": "execute_result"
    }
   ],
   "source": [
    "X = cars.drop('cylinders',axis=1)  # create a DataFrame of independent variables\n",
    "y = cars.cylinders   # create a series of the dependent variable\n",
    "\n",
    "# the independent variables are not of the same scale so we scale them \n",
    "# scaling the feature variables ensures fast computing.\n",
    "X_scaled = preprocessing.scale(X)\n",
    "\n",
    "# preprocessing.scale() returns a 2-d array not a DataFrame so we make our scaled variables\n",
    "# a DataFrame.\n",
    "X_scaled = pd.DataFrame(X_scaled,columns=X.columns)\n",
    "\n",
    "# split our data into training and testing data\n",
    "X_train,X_test,y_train,y_test = train_test_split(X_scaled,y,test_size=.3,random_state=0)\n",
    "\n",
    "\n",
    "\n",
    "\n",
    "\n",
    "model = SGDRegressor(max_iter=500) # initialize the SGDRegressor model\n",
    "model.fit(X_train,y_train)  # we fit the model with the training data"
   ]
  },
  {
   "cell_type": "code",
   "execution_count": 509,
   "metadata": {},
   "outputs": [
    {
     "name": "stdout",
     "output_type": "stream",
     "text": [
      "R2 Score: 0.8856269428104349\n",
      "\n",
      "Mean Squared Error: 0.34569018326794365\n",
      "\n",
      "Mean Absolute Error: 0.4691981060648664\n"
     ]
    }
   ],
   "source": [
    "ccylinders = model.predict(X_test)\n",
    "\n",
    "\n",
    "# calculate the R2 of the model\n",
    "print('R2 Score: {}\\n'.format(r2_score(y_test,ccylinders)))\n",
    "# compute the mean squared error of the model\n",
    "print('Mean Squared Error: {}\\n'.format(mean_squared_error(y_test,ccylinders)))\n",
    "#Computing the mean absolute error\n",
    "print('Mean Absolute Error: {}'.format(mean_absolute_error(y_test,ccylinders)))"
   ]
  },
  {
   "cell_type": "markdown",
   "metadata": {},
   "source": [
    "# Displacement Feature"
   ]
  },
  {
   "cell_type": "code",
   "execution_count": 510,
   "metadata": {},
   "outputs": [
    {
     "data": {
      "text/plain": [
       "SGDRegressor(max_iter=500)"
      ]
     },
     "execution_count": 510,
     "metadata": {},
     "output_type": "execute_result"
    }
   ],
   "source": [
    "X = cars.drop('displacement',axis=1)  # create a DataFrame of independent variables\n",
    "y = cars.displacement   # create a series of the dependent variable\n",
    "\n",
    "# the independent variables are not of the same scale so we scale them \n",
    "# scaling the feature variables ensures fast computing.\n",
    "X_scaled = preprocessing.scale(X)\n",
    "\n",
    "# preprocessing.scale() returns a 2-d array not a DataFrame so we make our scaled variables\n",
    "# a DataFrame.\n",
    "X_scaled = pd.DataFrame(X_scaled,columns=X.columns)\n",
    "\n",
    "# split our data into training and testing data\n",
    "X_train,X_test,y_train,y_test = train_test_split(X_scaled,y,test_size=.3,random_state=0)\n",
    "\n",
    "\n",
    "model = SGDRegressor(max_iter=500) # initialize the SGDRegressor model\n",
    "model.fit(X_train,y_train)  # we fit the model with the training data"
   ]
  },
  {
   "cell_type": "code",
   "execution_count": 511,
   "metadata": {},
   "outputs": [
    {
     "name": "stdout",
     "output_type": "stream",
     "text": [
      "R2 Score: 0.9588982010247775\n",
      "\n",
      "Mean Squared Error: 476.19189090458536\n",
      "\n",
      "Mean Absolute Error: 16.57847753966501\n"
     ]
    }
   ],
   "source": [
    "ddisplacement = model.predict(X_test)\n",
    "\n",
    "\n",
    "# calculate the R2 of the model\n",
    "print('R2 Score: {}\\n'.format(r2_score(y_test,ddisplacement)))\n",
    "# compute the mean squared error of the model\n",
    "print('Mean Squared Error: {}\\n'.format(mean_squared_error(y_test,ddisplacement)))\n",
    "#Computing the mean absolute error\n",
    "print('Mean Absolute Error: {}'.format(mean_absolute_error(y_test,ddisplacement)))\n"
   ]
  },
  {
   "cell_type": "markdown",
   "metadata": {},
   "source": [
    "# HorsePower Feature"
   ]
  },
  {
   "cell_type": "code",
   "execution_count": 512,
   "metadata": {},
   "outputs": [
    {
     "data": {
      "text/plain": [
       "SGDRegressor(max_iter=500)"
      ]
     },
     "execution_count": 512,
     "metadata": {},
     "output_type": "execute_result"
    }
   ],
   "source": [
    "X = cars.drop('horsepower',axis=1)  # create a DataFrame of independent variables\n",
    "y = cars.horsepower   # create a series of the dependent variable\n",
    "\n",
    "# the independent variables are not of the same scale so we scale them \n",
    "# scaling the feature variables ensures fast computing.\n",
    "X_scaled = preprocessing.scale(X)\n",
    "\n",
    "# preprocessing.scale() returns a 2-d array not a DataFrame so we make our scaled variables\n",
    "# a DataFrame.\n",
    "X_scaled = pd.DataFrame(X_scaled,columns=X.columns)\n",
    "\n",
    "# split our data into training and testing data\n",
    "X_train,X_test,y_train,y_test = train_test_split(X_scaled,y,test_size=.3,random_state=0)\n",
    "\n",
    "\n",
    "model = SGDRegressor(max_iter=500) # initialize the SGDRegressor model\n",
    "model.fit(X_train,y_train)  # we fit the model with the training data"
   ]
  },
  {
   "cell_type": "code",
   "execution_count": 513,
   "metadata": {},
   "outputs": [
    {
     "name": "stdout",
     "output_type": "stream",
     "text": [
      "R2 Score: 0.9183156724963168\n",
      "\n",
      "Mean Squared Error: 128.46171649566136\n",
      "\n",
      "Mean Absolute Error: 8.185576795482062\n"
     ]
    }
   ],
   "source": [
    "hhorsepower = model.predict(X_test)\n",
    "\n",
    "\n",
    "# calculate the R2 of the model\n",
    "print('R2 Score: {}\\n'.format(r2_score(y_test,hhorsepower)))\n",
    "# compute the mean squared error of the model\n",
    "print('Mean Squared Error: {}\\n'.format(mean_squared_error(y_test,hhorsepower)))\n",
    "#Computing the mean absolute error\n",
    "print('Mean Absolute Error: {}'.format(mean_absolute_error(y_test,hhorsepower)))\n"
   ]
  },
  {
   "cell_type": "markdown",
   "metadata": {},
   "source": [
    "# Weight Feature"
   ]
  },
  {
   "cell_type": "code",
   "execution_count": 514,
   "metadata": {},
   "outputs": [
    {
     "data": {
      "text/plain": [
       "SGDRegressor(max_iter=500)"
      ]
     },
     "execution_count": 514,
     "metadata": {},
     "output_type": "execute_result"
    }
   ],
   "source": [
    "X = cars.drop('weight',axis=1)  # create a DataFrame of independent variables\n",
    "y = cars.weight   # create a series of the dependent variable\n",
    "\n",
    "# the independent variables are not of the same scale so we scale them \n",
    "# scaling the feature variables ensures fast computing.\n",
    "X_scaled = preprocessing.scale(X)\n",
    "\n",
    "# preprocessing.scale() returns a 2-d array not a DataFrame so we make our scaled variables\n",
    "# a DataFrame.\n",
    "X_scaled = pd.DataFrame(X_scaled,columns=X.columns)\n",
    "\n",
    "# split our data into training and testing data\n",
    "X_train,X_test,y_train,y_test = train_test_split(X_scaled,y,test_size=.3,random_state=0)\n",
    "\n",
    "\n",
    "model = SGDRegressor(max_iter=500) # initialize the SGDRegressor model\n",
    "model.fit(X_train,y_train)  # we fit the model with the training data"
   ]
  },
  {
   "cell_type": "code",
   "execution_count": 515,
   "metadata": {},
   "outputs": [
    {
     "name": "stdout",
     "output_type": "stream",
     "text": [
      "R2 Score: 0.9338019230681488\n",
      "\n",
      "Mean Squared Error: 48583.53319958089\n",
      "\n",
      "Mean Absolute Error: 176.25108398235537\n"
     ]
    }
   ],
   "source": [
    "wweight = model.predict(X_test)\n",
    "\n",
    "\n",
    "# calculate the R2 of the model\n",
    "print('R2 Score: {}\\n'.format(r2_score(y_test,wweight)))\n",
    "# compute the mean squared error of the model\n",
    "print('Mean Squared Error: {}\\n'.format(mean_squared_error(y_test,wweight)))\n",
    "#Computing the mean absolute error\n",
    "print('Mean Absolute Error: {}'.format(mean_absolute_error(y_test,wweight)))\n"
   ]
  },
  {
   "cell_type": "markdown",
   "metadata": {},
   "source": [
    "# Accleration Feature "
   ]
  },
  {
   "cell_type": "code",
   "execution_count": 516,
   "metadata": {},
   "outputs": [
    {
     "data": {
      "text/plain": [
       "SGDRegressor(max_iter=500)"
      ]
     },
     "execution_count": 516,
     "metadata": {},
     "output_type": "execute_result"
    }
   ],
   "source": [
    "X = cars.drop('acceleration',axis=1)  # create a DataFrame of independent variables\n",
    "y = cars.acceleration   # create a series of the dependent variable\n",
    "\n",
    "# the independent variables are not of the same scale so we scale them \n",
    "# scaling the feature variables ensures fast computing.\n",
    "X_scaled = preprocessing.scale(X)\n",
    "\n",
    "# preprocessing.scale() returns a 2-d array not a DataFrame so we make our scaled variables\n",
    "# a DataFrame.\n",
    "X_scaled = pd.DataFrame(X_scaled,columns=X.columns)\n",
    "\n",
    "# split our data into training and testing data\n",
    "X_train,X_test,y_train,y_test = train_test_split(X_scaled,y,test_size=.3,random_state=0)\n",
    "\n",
    "\n",
    "model = SGDRegressor(max_iter=500) # initialize the SGDRegressor model\n",
    "model.fit(X_train,y_train)  # we fit the model with the training data"
   ]
  },
  {
   "cell_type": "code",
   "execution_count": 517,
   "metadata": {},
   "outputs": [
    {
     "name": "stdout",
     "output_type": "stream",
     "text": [
      "R2 Score: 0.6144693399113164\n",
      "\n",
      "Mean Squared Error: 2.804620922948623\n",
      "\n",
      "Mean Absolute Error: 1.2285077724489895\n"
     ]
    }
   ],
   "source": [
    "aacceleration = model.predict(X_test)\n",
    "\n",
    "\n",
    "# calculate the R2 of the model\n",
    "print('R2 Score: {}\\n'.format(r2_score(y_test,aacceleration)))\n",
    "# compute the mean squared error of the model\n",
    "print('Mean Squared Error: {}\\n'.format(mean_squared_error(y_test,aacceleration)))\n",
    "#Computing the mean absolute error\n",
    "print('Mean Absolute Error: {}'.format(mean_absolute_error(y_test,aacceleration)))\n"
   ]
  },
  {
   "cell_type": "markdown",
   "metadata": {},
   "source": [
    "# Model Year Feature"
   ]
  },
  {
   "cell_type": "code",
   "execution_count": 518,
   "metadata": {},
   "outputs": [
    {
     "data": {
      "text/plain": [
       "SGDRegressor(max_iter=500)"
      ]
     },
     "execution_count": 518,
     "metadata": {},
     "output_type": "execute_result"
    }
   ],
   "source": [
    "X = cars.drop('model_year',axis=1)  # create a DataFrame of independent variables\n",
    "y = cars.model_year   # create a series of the dependent variable\n",
    "\n",
    "# the independent variables are not of the same scale so we scale them \n",
    "# scaling the feature variables ensures fast computing.\n",
    "X_scaled = preprocessing.scale(X)\n",
    "\n",
    "# preprocessing.scale() returns a 2-d array not a DataFrame so we make our scaled variables\n",
    "# a DataFrame.\n",
    "X_scaled = pd.DataFrame(X_scaled,columns=X.columns)\n",
    "\n",
    "# split our data into training and testing data\n",
    "X_train,X_test,y_train,y_test = train_test_split(X_scaled,y,test_size=.3,random_state=0)\n",
    "\n",
    "\n",
    "model = SGDRegressor(max_iter=500) # initialize the SGDRegressor model\n",
    "model.fit(X_train,y_train)  # we fit the model with the training data"
   ]
  },
  {
   "cell_type": "code",
   "execution_count": 519,
   "metadata": {},
   "outputs": [
    {
     "name": "stdout",
     "output_type": "stream",
     "text": [
      "R2 Score: 0.5038955053909999\n",
      "\n",
      "Mean Squared Error: 6.803835851409744\n",
      "\n",
      "Mean Absolute Error: 2.151389844224641\n"
     ]
    }
   ],
   "source": [
    "year = model.predict(X_test)\n",
    "\n",
    "# calculate the R2 of the model\n",
    "print('R2 Score: {}\\n'.format(r2_score(y_test,year)))\n",
    "# compute the mean squared error of the model\n",
    "print('Mean Squared Error: {}\\n'.format(mean_squared_error(y_test,year)))\n",
    "#Computing the mean absolute error\n",
    "print('Mean Absolute Error: {}'.format(mean_absolute_error(y_test,year)))\n"
   ]
  },
  {
   "cell_type": "markdown",
   "metadata": {},
   "source": [
    "# Origin Feature"
   ]
  },
  {
   "cell_type": "code",
   "execution_count": 520,
   "metadata": {},
   "outputs": [
    {
     "data": {
      "text/plain": [
       "SGDRegressor(max_iter=500)"
      ]
     },
     "execution_count": 520,
     "metadata": {},
     "output_type": "execute_result"
    }
   ],
   "source": [
    "X = cars.drop('origin',axis=1)  # create a DataFrame of independent variables\n",
    "y = cars.origin   # create a series of the dependent variable\n",
    "\n",
    "# the independent variables are not of the same scale so we scale them\n",
    "# scaling the feature variables ensures fast computing.\n",
    "X_scaled = preprocessing.scale(X)\n",
    "\n",
    "# preprocessing.scale() returns a 2-d array not a DataFrame so we make our scaled variables\n",
    "# a DataFrame.\n",
    "X_scaled = pd.DataFrame(X_scaled,columns=X.columns)\n",
    "\n",
    "# split our data into training and testing data\n",
    "X_train,X_test,y_train,y_test = train_test_split(X_scaled,y,test_size=.3,random_state=0)\n",
    "\n",
    "\n",
    "model = SGDRegressor(max_iter=500) # initialize the SGDRegressor model\n",
    "model.fit(X_train,y_train)  # we fit the model with the training data"
   ]
  },
  {
   "cell_type": "code",
   "execution_count": 521,
   "metadata": {
    "scrolled": true
   },
   "outputs": [
    {
     "name": "stdout",
     "output_type": "stream",
     "text": [
      "R2 Score: 0.4446739391185093\n",
      "\n",
      "Mean Squared Error: 0.35898375998235416\n",
      "\n",
      "Mean Absolute Error: 0.45435189137232124\n"
     ]
    }
   ],
   "source": [
    "oorigin = model.predict(X_test)\n",
    "# calculate the R2 of the model\n",
    "print('R2 Score: {}\\n'.format(r2_score(y_test,oorigin)))\n",
    "\n",
    "# compute the mean squared error of the model\n",
    "print('Mean Squared Error: {}\\n'.format(mean_squared_error(y_test,oorigin)))\n",
    "#Computing the mean absolute error\n",
    "print('Mean Absolute Error: {}'.format(mean_absolute_error(y_test,oorigin)))\n"
   ]
  },
  {
   "cell_type": "markdown",
   "metadata": {},
   "source": [
    "# All The Features"
   ]
  },
  {
   "cell_type": "code",
   "execution_count": 522,
   "metadata": {},
   "outputs": [
    {
     "data": {
      "text/plain": [
       "SGDRegressor(max_iter=500)"
      ]
     },
     "execution_count": 522,
     "metadata": {},
     "output_type": "execute_result"
    }
   ],
   "source": [
    "X = cars.drop(['mpg'],axis=1)\n",
    "y = cars['mpg']\n",
    "# the independent variables are not of the same scale so we scale them \n",
    "# scaling the feature variables ensures fast computing.\n",
    "X_scaled = preprocessing.scale(X)\n",
    "Y_scaled = preprocessing.scale(y)\n",
    "\n",
    "# preprocessing.scale() returns a 2-d array not a DataFrame so we make our scaled variables\n",
    "# a DataFrame.\n",
    "X_scaled = pd.DataFrame(X_scaled,columns=X.columns)\n",
    "# split our data into training and testing data\n",
    "X_train,X_test,y_train,y_test = train_test_split(X_scaled,Y_scaled,test_size=.3,random_state=0)\n",
    "\n",
    "\n",
    "model = SGDRegressor(max_iter=500) # initialize the SGDRegressor model\n",
    "model.fit(X_train,y_train)  # we fit the model with the training data\n",
    "\n",
    "\n"
   ]
  },
  {
   "cell_type": "code",
   "execution_count": 523,
   "metadata": {},
   "outputs": [
    {
     "name": "stdout",
     "output_type": "stream",
     "text": [
      "R2 Score: 0.7983975592004012\n",
      "\n",
      "Mean Squared Error: 0.20410018827664475\n",
      "\n",
      "Mean Absolute Error: 0.33020189018049434\n"
     ]
    }
   ],
   "source": [
    "Y_predict = model.predict(X_test)\n",
    "# calculate the R2 of the model\n",
    "print('R2 Score: {}\\n'.format(r2_score(y_test,Y_predict)))\n",
    "# compute the mean squared error of the model\n",
    "print('Mean Squared Error: {}\\n'.format(mean_squared_error(y_test,Y_predict)))\n",
    "#Computing the mean absolute error\n",
    "print('Mean Absolute Error: {}'.format(mean_absolute_error(y_test,Y_predict)))"
   ]
  },
  {
   "cell_type": "markdown",
   "metadata": {},
   "source": [
    "# All Features Iter = 500, penalty = l1"
   ]
  },
  {
   "cell_type": "code",
   "execution_count": 524,
   "metadata": {},
   "outputs": [
    {
     "data": {
      "text/plain": [
       "SGDRegressor(max_iter=500, penalty='l1')"
      ]
     },
     "execution_count": 524,
     "metadata": {},
     "output_type": "execute_result"
    }
   ],
   "source": [
    "X = cars.drop(['mpg'],axis=1)\n",
    "y = cars['mpg']\n",
    "# the independent variables are not of the same scale so we scale them \n",
    "# scaling the feature variables ensures fast computing.\n",
    "X_scaled = preprocessing.scale(X)\n",
    "Y_scaled = preprocessing.scale(y)\n",
    "\n",
    "# preprocessing.scale() returns a 2-d array not a DataFrame so we make our scaled variables\n",
    "# a DataFrame.\n",
    "X_scaled = pd.DataFrame(X_scaled,columns=X.columns)\n",
    "\n",
    "# split our data into training and testing data\n",
    "X_train,X_test,y_train,y_test = train_test_split(X_scaled,Y_scaled,test_size=.3,random_state=0)\n",
    "\n",
    "\n",
    "model = SGDRegressor(max_iter=500,penalty='l1') # initialize the SGDRegressor model\n",
    "model.fit(X_train,y_train)  # we fit the model with the training data"
   ]
  },
  {
   "cell_type": "code",
   "execution_count": 525,
   "metadata": {},
   "outputs": [
    {
     "name": "stdout",
     "output_type": "stream",
     "text": [
      "R2 Score: 0.7962610729978208\n",
      "\n",
      "Mean Squared Error: 0.20626314441183652\n",
      "\n",
      "Mean Absolute Error: 0.3287734612665438\n"
     ]
    }
   ],
   "source": [
    "Y_predict = model.predict(X_test)\n",
    "\n",
    "# calculate the R2 of the model\n",
    "print('R2 Score: {}\\n'.format(r2_score(y_test,Y_predict)))\n",
    "# compute the mean squared error of the model\n",
    "print('Mean Squared Error: {}\\n'.format(mean_squared_error(y_test,Y_predict)))\n",
    "#Computing the mean absolute error\n",
    "print('Mean Absolute Error: {}'.format(mean_absolute_error(y_test,Y_predict)))"
   ]
  },
  {
   "cell_type": "markdown",
   "metadata": {},
   "source": [
    "# All Features Iter = 500, eta0 = 10"
   ]
  },
  {
   "cell_type": "code",
   "execution_count": 526,
   "metadata": {},
   "outputs": [
    {
     "data": {
      "text/plain": [
       "SGDRegressor(eta0=10, max_iter=500, penalty='l1')"
      ]
     },
     "execution_count": 526,
     "metadata": {},
     "output_type": "execute_result"
    }
   ],
   "source": [
    "X = cars.drop(['mpg'],axis=1)\n",
    "y = cars['mpg']\n",
    "# the independent variables are not of the same scale so we scale them \n",
    "# scaling the feature variables ensures fast computing.\n",
    "X_scaled = preprocessing.scale(X)\n",
    "Y_scaled = preprocessing.scale(y)\n",
    "\n",
    "# preprocessing.scale() returns a 2-d array not a DataFrame so we make our scaled variables\n",
    "# a DataFrame.\n",
    "X_scaled = pd.DataFrame(X_scaled,columns=X.columns)\n",
    "\n",
    "# split our data into training and testing data\n",
    "X_train,X_test,y_train,y_test = train_test_split(X_scaled,Y_scaled,test_size=.3,random_state=0)\n",
    "\n",
    "\n",
    "model = SGDRegressor(max_iter=500,penalty='l1',eta0=10) # initialize the SGDRegressor model\n",
    "model.fit(X_train,y_train)  # we fit the model with the training data"
   ]
  },
  {
   "cell_type": "code",
   "execution_count": 527,
   "metadata": {},
   "outputs": [
    {
     "name": "stdout",
     "output_type": "stream",
     "text": [
      "R2 Score: -1.3373959075933106e+25\n",
      "\n",
      "Mean Squared Error: 1.3539655346313252e+25\n",
      "\n",
      "Mean Absolute Error: 2971372476859.6597\n"
     ]
    }
   ],
   "source": [
    "Y_predict = model.predict(X_test)\n",
    "\n",
    "# calculate the R2 of the model\n",
    "print('R2 Score: {}\\n'.format(r2_score(y_test,Y_predict)))\n",
    "# compute the mean squared error of the model\n",
    "print('Mean Squared Error: {}\\n'.format(mean_squared_error(y_test,Y_predict)))\n",
    "#Computing the mean absolute error\n",
    "print('Mean Absolute Error: {}'.format(mean_absolute_error(y_test,Y_predict)))"
   ]
  },
  {
   "cell_type": "code",
   "execution_count": null,
   "metadata": {},
   "outputs": [],
   "source": []
  },
  {
   "cell_type": "code",
   "execution_count": null,
   "metadata": {},
   "outputs": [],
   "source": []
  },
  {
   "cell_type": "code",
   "execution_count": null,
   "metadata": {},
   "outputs": [],
   "source": []
  }
 ],
 "metadata": {
  "kernelspec": {
   "display_name": "Python 3",
   "language": "python",
   "name": "python3"
  },
  "language_info": {
   "codemirror_mode": {
    "name": "ipython",
    "version": 3
   },
   "file_extension": ".py",
   "mimetype": "text/x-python",
   "name": "python",
   "nbconvert_exporter": "python",
   "pygments_lexer": "ipython3",
   "version": "3.8.3"
  }
 },
 "nbformat": 4,
 "nbformat_minor": 4
}
